{
 "cells": [
  {
   "cell_type": "code",
   "execution_count": 1,
   "metadata": {},
   "outputs": [
    {
     "data": {
      "text/plain": [
       "{'divide': 'warn', 'over': 'warn', 'under': 'ignore', 'invalid': 'warn'}"
      ]
     },
     "execution_count": 1,
     "metadata": {},
     "output_type": "execute_result"
    }
   ],
   "source": [
    "import numpy as np\n",
    "np.seterr(under='raise')"
   ]
  },
  {
   "cell_type": "code",
   "execution_count": 2,
   "metadata": {},
   "outputs": [],
   "source": [
    "from collections import Counter, deque\n",
    "import numpy as np\n",
    "from collections import Counter\n",
    "\n",
    "\n",
    "def make_sequences(path, prj_idcs):\n",
    "    sequences = []\n",
    "    with open(path, 'r') as f:\n",
    "        sequence = []\n",
    "        for line in f:\n",
    "            line = line.strip()\n",
    "            if line:\n",
    "                line = line.split()\n",
    "                sequence.append(tuple([line[i] for i in prj_idcs]) if len(\n",
    "                    prj_idcs) > 1 else line[prj_idcs[0]])\n",
    "            else:\n",
    "                sequences.append(tuple(sequence))\n",
    "                sequence = []\n",
    "    return sequences\n",
    "\n",
    "\n",
    "def make_ngrams(sequences, n, n_edge_marks=0):\n",
    "    \"\"\"\n",
    "    produce ngrams from a sequence.\n",
    "\n",
    "    Parameters\n",
    "    ----------\n",
    "    sequence : iterable\n",
    "        Input sequence.\n",
    "    n : int\n",
    "        size of the ngrams.\n",
    "    n_edge_marks : int, optional\n",
    "        number of BOS and EOS marks to surround the sequence with\n",
    "\n",
    "    Yields\n",
    "    ------\n",
    "    ngram : tuple\n",
    "    \"\"\"\n",
    "    if n <= 0:\n",
    "        raise ValueError('ngram size <= 0 is invalid.')\n",
    "    if n_edge_marks < 0:\n",
    "        raise ValueError('n_edge_marks < 0 is invalid.')\n",
    "\n",
    "    for sequence in sequences:\n",
    "        sequence = tuple(['<BOS>']*(n_edge_marks)) + \\\n",
    "            sequence + \\\n",
    "            tuple(['<EOS>']*n_edge_marks)\n",
    "        ngram = deque()\n",
    "        for token in sequence[:n]:\n",
    "            ngram.append(token)\n",
    "        for token in sequence[n:]:\n",
    "            yield tuple(ngram) if n > 1 else ngram[0]\n",
    "            ngram.append(token)\n",
    "            ngram.popleft()\n",
    "        yield tuple(ngram) if n > 1 else ngram[0]\n",
    "\n",
    "\n",
    "def count_ngrams(sequence, n, n_edge_marks):\n",
    "    return Counter(make_ngrams(sequence, n, n_edge_marks))\n",
    "\n",
    "from frozendict import frozendict\n",
    "from itertools import chain\n",
    "\n",
    "class X2ID:\n",
    "    \"\"\"\n",
    "    maps item of type X to IDs and vice versa.\n",
    "    only works in Python 3.7+.\n",
    "    \"\"\"\n",
    "\n",
    "    def __init__(self, *containers, unknown=None):\n",
    "        self.unknown = unknown\n",
    "        self.d = frozendict({s: i for i, s in enumerate(chain(*containers))})\n",
    "\n",
    "    def get_value(self, n):\n",
    "        \"\"\"\n",
    "        This sucks. Needs C++ style iterators.\n",
    "        \"\"\"\n",
    "        if n < 0:\n",
    "            n += len(self.d)\n",
    "        for i, key in enumerate(self.d.keys()):\n",
    "            if i == n:\n",
    "                return key\n",
    "        raise IndexError(\"dictionary index out of range\")\n",
    "\n",
    "    def __getitem__(self, item):\n",
    "        try:\n",
    "            return self.get_value(item) if type(item) is int else self.d[item]\n",
    "        except:\n",
    "            return self.d[self.unknown]\n",
    "        \n",
    "        \n",
    "from typing import Dict\n",
    "import pandas as pd\n",
    "from scipy.sparse import csr_matrix\n",
    "\n",
    "\n",
    "def make_count_matrix(counts: Dict, smoothing_constant=0):\n",
    "\n",
    "    row_indxs = []\n",
    "    col_indxs = []\n",
    "    dat_values = []\n",
    "\n",
    "    for i, ((a, b), cnt) in enumerate(counts.items(), 1):\n",
    "\n",
    "        col_indxs.append(a)\n",
    "        row_indxs.append(b)\n",
    "        dat_values.append(cnt)\n",
    "\n",
    "    return csr_matrix((dat_values, (row_indxs, col_indxs))).toarray()+smoothing_constant"
   ]
  },
  {
   "cell_type": "code",
   "execution_count": 27,
   "metadata": {},
   "outputs": [],
   "source": [
    "def logdot(a, b):\n",
    "    max_a, max_b = np.max(a), np.max(b)\n",
    "    exp_a, exp_b = a - max_a, b - max_b\n",
    "    np.exp(exp_a, out=exp_a)\n",
    "    np.exp(exp_b, out=exp_b)\n",
    "    c = np.dot(exp_a, exp_b)\n",
    "    np.log(c, out=c)\n",
    "    c += max_a + max_b\n",
    "    return c\n",
    "\n",
    "class Semiring():\n",
    "    pass\n",
    "\n",
    "class LogSemiring(Semiring):\n",
    "    def mul(self, *args):\n",
    "        return np.add(*args)\n",
    "    def zeros(self, *args):\n",
    "        return np.ones(*args)\n",
    "    def dot(self, a, b):\n",
    "        return logdot(a, b)\n",
    "    def scale(self, a):\n",
    "        return np.log(a)"
   ]
  },
  {
   "cell_type": "code",
   "execution_count": 32,
   "metadata": {},
   "outputs": [],
   "source": [
    "import numpy as np\n",
    "from numpy.random import dirichlet\n",
    "import matplotlib.pyplot as plt\n",
    "\n",
    "\n",
    "class HMM:\n",
    "    def __init__(self, semiring=None, n_hidden=None, n_observed=None):\n",
    "        if not semiring:\n",
    "            semiring = LogSemiring()\n",
    "        self.__semiring = semiring\n",
    "        if n_hidden:\n",
    "            self.n_hidden = n_hidden\n",
    "            self.__initial = self.semiring.scale(\n",
    "                dirichlet(np.ones(n_hidden), size=1))\n",
    "            # treat column index as FROM and row index as TO\n",
    "            self.__transitions = self.semiring.scale(\n",
    "                dirichlet(np.ones(n_hidden), size=n_hidden))\n",
    "            if n_observed:\n",
    "                self.__emissions = self.semiring.scale(dirichlet(\n",
    "                    np.ones(n_hidden), size=n_observed))\n",
    "\n",
    "    @property\n",
    "    def semiring(self):\n",
    "        return self.__semiring\n",
    "\n",
    "    @property\n",
    "    def initial(self):\n",
    "        return self.__initial\n",
    "\n",
    "    @initial.setter\n",
    "    def initial(self, x):\n",
    "        self.__initial = x\n",
    "\n",
    "    @property\n",
    "    def transitions(self):\n",
    "        return self.__transitions\n",
    "\n",
    "    @transitions.setter\n",
    "    def transitions(self, x):\n",
    "        assert(x.shape[0] == x.shape[1])\n",
    "        self.n_hidden = x.shape[0]\n",
    "        self.__transitions = x\n",
    "\n",
    "    @property\n",
    "    def emissions(self):\n",
    "        return self.__emissions\n",
    "\n",
    "    @emissions.setter\n",
    "    def emissions(self, x):\n",
    "        self.__emissions = x\n",
    "\n",
    "    def forward(self, idcs):\n",
    "\n",
    "        # stores probabilities for states at current timestep\n",
    "        trellis = self.semiring.zeros((len(idcs), self.n_hidden))\n",
    "        trellis[0] = self.semiring.mul(self.initials, self.emissions[idcs[0]])\n",
    "\n",
    "        for i, idx in enumerate(idcs[1:]):\n",
    "            trellis[i+1] = self.semiring.mul(self.semiring.dot(\n",
    "                self.transitions, trellis[i]), self.emissions[idx])\n",
    "\n",
    "        return trellis\n",
    "\n",
    "    def viterbi(self, idcs):\n",
    "\n",
    "        # stores probabilities for states at current timestep\n",
    "        trellis = self.semiring.zeros((len(idcs), self.n_hidden))\n",
    "        trellis[0] = self.semiring.mul(self.initials, self.emissions[idcs[0]])\n",
    "\n",
    "        for i, idx in enumerate(idcs[1:]):\n",
    "            trellis[i+1] = np.max(\n",
    "                self.semiring.mul(\n",
    "                    self.semiring.mul(\n",
    "                        self.transitions, trellis[i]),\n",
    "                    self.emissions[idx][:, np.newaxis]),\n",
    "                axis=1)\n",
    "\n",
    "        return np.argmax(trellis, axis=1)"
   ]
  },
  {
   "cell_type": "code",
   "execution_count": 4,
   "metadata": {},
   "outputs": [
    {
     "name": "stdout",
     "output_type": "stream",
     "text": [
      "[[0.91359743 0.63755533 0.63544169]\n",
      " [0.71148476 0.84102533 0.37839201]\n",
      " [0.85545964 0.60684272 0.45200178]]\n",
      "[[0.16522363 0.37474642 0.32547586]\n",
      " [0.46284152 0.17015725 0.4010522 ]\n",
      " [0.26523095 0.72762166 0.36390184]]\n"
     ]
    },
    {
     "data": {
      "text/plain": [
       "True"
      ]
     },
     "execution_count": 4,
     "metadata": {},
     "output_type": "execute_result"
    }
   ],
   "source": [
    "import numpy as np\n",
    "\n",
    "def logdot(a, b):\n",
    "    max_a, max_b = np.max(a), np.max(b)\n",
    "    exp_a, exp_b = a - max_a, b - max_b\n",
    "    np.exp(exp_a, out=exp_a)\n",
    "    np.exp(exp_b, out=exp_b)\n",
    "    c = np.dot(exp_a, exp_b)\n",
    "    np.log(c, out=c)\n",
    "    c += max_a + max_b\n",
    "    return c\n",
    "\n",
    "a = np.random.random(size=(3,3))\n",
    "b = np.random.random(size=(3,3))\n",
    "\n",
    "print(a)\n",
    "print(b)\n",
    "\n",
    "np.allclose(logdot(np.log(a), np.log(b)), np.log(np.dot(a, b)))"
   ]
  },
  {
   "cell_type": "code",
   "execution_count": 5,
   "metadata": {},
   "outputs": [],
   "source": [
    "path = 'data_tiger_annotated.txt'\n",
    "tag_sqs = make_sequences(path, [1])\n",
    "token_tag_sqs = make_sequences(path, [0, 1])\n",
    "token_tag_sqs.append((('<ukn>', 'XY'),))\n",
    "\n",
    "\n",
    "TgUgCnts = count_ngrams(tag_sqs, 1, 2)  # tag unigram counts\n",
    "TgBgCnts = count_ngrams(tag_sqs, 2, 2)  # tag bigram counts\n",
    "TkTgCnts = count_ngrams(token_tag_sqs, 1, 0)  # token-tag pair counts\n",
    "\n",
    "tags = list(TgUgCnts.keys())\n",
    "tokens = list(zip(*TkTgCnts.keys()))[0]\n",
    "\n",
    "Tg2id = X2ID(tags)  # maps tags to IDs\n",
    "Tk2id = X2ID(tokens, unknown='<ukn>')  # maps tags and tokens to IDs\n",
    "\n",
    "# make new count dicts with IDs rather than strings\n",
    "TgUgCnts = {Tg2id[tag]: cnt for tag, cnt in TgUgCnts.items()}\n",
    "TgBgCnts = {tuple(Tg2id[tag] for tag in TgTuple)\n",
    "                  : cnt for TgTuple, cnt in TgBgCnts.items()}\n",
    "TkTgCnts = {(Tk2id[tkn], Tg2id[tag]): cnt for (\n",
    "    tkn, tag), cnt in TkTgCnts.items()}\n",
    "\n",
    "TgUgVec = np.array(list(TgUgCnts.values()))\n",
    "TgBgMat = make_count_matrix(TgBgCnts, 1)\n",
    "TkTgMat = make_count_matrix(TkTgCnts, 1).T  # tranpose, so tags are columns\n",
    "\n",
    "initial_probs = TgUgVec/(np.sum(TgUgVec))\n",
    "transition_probs = TgBgMat/(np.sum(TgBgMat, axis=0))\n",
    "emission_probs = TkTgMat/(np.sum(TkTgMat, axis=0))"
   ]
  },
  {
   "cell_type": "code",
   "execution_count": 33,
   "metadata": {},
   "outputs": [
    {
     "data": {
      "text/plain": [
       "[('ART', 'Der'),\n",
       " ('NN', 'Viterbi-Algorithmus'),\n",
       " ('VAFIN', 'ist'),\n",
       " ('ART', 'ein'),\n",
       " ('NN', 'Algorithmus'),\n",
       " ('ART', 'der'),\n",
       " ('ADJA', 'dynamischen'),\n",
       " ('NN', 'Programmierung'),\n",
       " ('APPRART', 'zur'),\n",
       " ('NN', 'Bestimmung'),\n",
       " ('ART', 'der'),\n",
       " ('NN', 'wahrscheinlichsten'),\n",
       " ('NN', 'Sequenz'),\n",
       " ('APPR', 'von'),\n",
       " ('ART', 'verborgenen'),\n",
       " ('NN', 'Zuständen'),\n",
       " ('APPR', 'bei'),\n",
       " ('ART', 'einem'),\n",
       " ('ADJA', 'gegebenen'),\n",
       " ('NN', 'Hidden'),\n",
       " ('APPR', 'Markov'),\n",
       " ('<EOS>', 'Model'),\n",
       " ('<EOS>', '(HMM)'),\n",
       " ('KON', 'und'),\n",
       " ('ART', 'einer'),\n",
       " ('NN', 'beobachteten'),\n",
       " ('NN', 'Sequenz'),\n",
       " ('APPR', 'von'),\n",
       " ('ART', 'Symbolen'),\n",
       " ('$.', '.')]"
      ]
     },
     "execution_count": 33,
     "metadata": {},
     "output_type": "execute_result"
    }
   ],
   "source": [
    "hmm = HMM()\n",
    "\n",
    "hmm.initials = np.log(initial_probs)\n",
    "hmm.transitions = np.log(transition_probs)\n",
    "hmm.emissions = np.log(emission_probs)\n",
    "\n",
    "sentence = 'Der Viterbi-Algorithmus ist ein Algorithmus der dynamischen Programmierung zur Bestimmung der wahrscheinlichsten Sequenz von verborgenen Zuständen bei einem gegebenen Hidden Markov Model (HMM) und einer beobachteten Sequenz von Symbolen .'\n",
    "sentence = sentence.split()\n",
    "[(Tg2id[int(s)], w) for s, w in zip(hmm.viterbi([Tk2id[w] for w in sentence]), sentence)]"
   ]
  },
  {
   "cell_type": "code",
   "execution_count": 34,
   "metadata": {},
   "outputs": [
    {
     "name": "stdout",
     "output_type": "stream",
     "text": [
      "CPU times: user 1min 10s, sys: 5.18 s, total: 1min 15s\n",
      "Wall time: 1min 13s\n"
     ]
    }
   ],
   "source": [
    "sentences = [[Tk2id[tkn] for tkn in sentence] for sentence in make_sequences(path, [0])]\n",
    "\n",
    "def f():\n",
    "    for i, sentence in enumerate(sentences):\n",
    "        hmm.viterbi(sentence)\n",
    "        print(i, end='\\r')\n",
    "        \n",
    "%time f()"
   ]
  },
  {
   "cell_type": "code",
   "execution_count": 8,
   "metadata": {},
   "outputs": [
    {
     "data": {
      "text/plain": [
       "11179.236111111111"
      ]
     },
     "execution_count": 8,
     "metadata": {},
     "output_type": "execute_result"
    }
   ],
   "source": [
    "np.sum([len(s) for s in sentences])/72"
   ]
  },
  {
   "cell_type": "code",
   "execution_count": 9,
   "metadata": {},
   "outputs": [
    {
     "data": {
      "text/plain": [
       "638.5416666666666"
      ]
     },
     "execution_count": 9,
     "metadata": {},
     "output_type": "execute_result"
    }
   ],
   "source": [
    "len(sentences)/72"
   ]
  }
 ],
 "metadata": {
  "kernelspec": {
   "display_name": "Python 3",
   "language": "python",
   "name": "python3"
  },
  "language_info": {
   "codemirror_mode": {
    "name": "ipython",
    "version": 3
   },
   "file_extension": ".py",
   "mimetype": "text/x-python",
   "name": "python",
   "nbconvert_exporter": "python",
   "pygments_lexer": "ipython3",
   "version": "3.7.4"
  }
 },
 "nbformat": 4,
 "nbformat_minor": 2
}
